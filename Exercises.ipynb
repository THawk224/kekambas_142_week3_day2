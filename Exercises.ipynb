{
 "cells": [
  {
   "cell_type": "markdown",
   "metadata": {},
   "source": [
    "#### Exercise 1 - Class Inheritance"
   ]
  },
  {
   "cell_type": "markdown",
   "metadata": {},
   "source": [
    "Create an Employee class that sets an employee's first name, last name, job title, salary, and email. The Employee class should have a class attribute for the raise amount set to 5% (1.05). Create a method that will apply the raise to an employee's salary."
   ]
  },
  {
   "cell_type": "code",
   "execution_count": 1,
   "metadata": {},
   "outputs": [
    {
     "name": "stdout",
     "output_type": "stream",
     "text": [
      "60000\n",
      "63000.0\n"
     ]
    }
   ],
   "source": [
    "# Write the Employee Parent Class Here\n",
    "\n",
    "class Employee:\n",
    "    \"\"\"A class to represent an employee\"\"\"\n",
    "\n",
    "    # Class attribute for raise amount\n",
    "    raise_amount = 1.05\n",
    "\n",
    "    def __init__(self, first_name, last_name, job_title, salary, email):\n",
    "        \"\"\"\n",
    "        Initialize an Employee object with first name, last name, job title, salary, and email.\n",
    "\n",
    "        Parameters:\n",
    "        first_name (str): The first name of the employee.\n",
    "        last_name (str): The last name of the employee.\n",
    "        job_title (str): The job title of the employee.\n",
    "        salary (float): The salary of the employee.\n",
    "        email (str): The email address of the employee.\n",
    "        \"\"\"\n",
    "        self.first_name = first_name\n",
    "        self.last_name = last_name\n",
    "        self.job_title = job_title\n",
    "        self.salary = salary\n",
    "        self.email = email\n",
    "\n",
    "    def apply_raise(self):\n",
    "        \"\"\"\n",
    "        Apply a raise to the employee's salary based on the raise amount.\n",
    "        \"\"\"\n",
    "        self.salary *= self.raise_amount\n",
    "\n",
    "# Example usage:\n",
    "emp1 = Employee(\"John\", \"Doe\", \"Software Engineer\", 60000, \"john.doe@example.com\")\n",
    "print(emp1.salary)  # Output: 60000\n",
    "emp1.apply_raise()\n",
    "print(emp1.salary)  # Output: 63000\n"
   ]
  },
  {
   "cell_type": "markdown",
   "metadata": {},
   "source": [
    "Create two more classes that inherit from the Employee class. One for Sales and one for Development. Both of these classes will have the same attributes as the Employee.<br>\n",
    "- For the Sales employees, add a phone number attribute on instantiation using the super method. \n",
    "- Create a method on the Sales class that will \"Send a Follow Up Email\". It should take in a customer name and \"send\" aka print a formatted email \"Dear *customer*, Thank you for your interest in our product. Please let me know if you have any questions. My email is *email* or my phone number is *phone number*. Thanks, *full name*\"\n",
    "- Create a method on the Development class called code that will print out \"*full name* is writing code\"."
   ]
  },
  {
   "cell_type": "code",
   "execution_count": 4,
   "metadata": {},
   "outputs": [],
   "source": [
    "# Write the Sales child Class Here\n",
    "\n",
    "class Employee:\n",
    "    \"\"\"\n",
    "    A class to represent an Employee.\n",
    "\n",
    "    Attributes:\n",
    "    - first_name (str): The first name of the employee.\n",
    "    - last_name (str): The last name of the employee.\n",
    "    - job_title (str): The job title of the employee.\n",
    "    - salary (float): The salary of the employee.\n",
    "    - email (str): The email of the employee.\n",
    "    \"\"\"\n",
    "\n",
    "    raise_amount = 1.05\n",
    "\n",
    "    def __init__(self, first_name, last_name, job_title, salary, email):\n",
    "        self.first_name = first_name\n",
    "        self.last_name = last_name\n",
    "        self.job_title = job_title\n",
    "        self.salary = salary\n",
    "        self.email = email\n",
    "\n",
    "    def apply_raise(self):\n",
    "        \"\"\"Apply a raise to the employee's salary.\"\"\"\n",
    "        self.salary *= self.raise_amount\n",
    "\n",
    "\n",
    "class Sales(Employee):\n",
    "    \"\"\"\n",
    "    A class to represent a Sales employee.\n",
    "\n",
    "    Attributes:\n",
    "    - Inherits all attributes from Employee class.\n",
    "    - phone_number (str): The phone number of the sales employee.\n",
    "    \"\"\"\n",
    "\n",
    "    def __init__(self, first_name, last_name, job_title, salary, email, phone_number):\n",
    "        super().__init__(first_name, last_name, job_title, salary, email)\n",
    "        self.phone_number = phone_number\n",
    "\n",
    "    def send_follow_up_email(self, customer_name):\n",
    "        \"\"\"Send a follow-up email to a customer.\"\"\"\n",
    "        print(f\"Dear {customer_name}, Thank you for your interest in our product. \"\n",
    "              f\"Please let me know if you have any questions. My email is {self.email} \"\n",
    "              f\"or my phone number is {self.phone_number}. Thanks, {self.first_name} {self.last_name}\")\n",
    "\n",
    "\n",
    "class Development(Employee):\n",
    "    \"\"\"\n",
    "    A class to represent a Development employee.\n",
    "\n",
    "    Attributes:\n",
    "    - Inherits all attributes from Employee class.\n",
    "    \"\"\"\n",
    "\n",
    "    def code(self):\n",
    "        \"\"\"Print a message that the employee is writing code.\"\"\"\n",
    "        print(f\"{self.first_name} {self.last_name} is writing code.\")\n",
    "\n"
   ]
  },
  {
   "cell_type": "code",
   "execution_count": 5,
   "metadata": {},
   "outputs": [],
   "source": [
    "# Write the Development child Class Here\n",
    "\n",
    "\n"
   ]
  },
  {
   "cell_type": "markdown",
   "metadata": {},
   "source": [
    "- Create an instance of a Sales Employee with a salary of $50,000.\n",
    "- Send follow up emails to \"Mike O'Neil\" and \"Hannah Stern\"\n",
    "- Give the employee a raise and print the salary"
   ]
  },
  {
   "cell_type": "code",
   "execution_count": 6,
   "metadata": {},
   "outputs": [
    {
     "name": "stdout",
     "output_type": "stream",
     "text": [
      "Dear Mike O'Neil, Thank you for your interest in our product. Please let me know if you have any questions. My email is john.doe@example.com or my phone number is 123-456-7890. Thanks, John Doe\n",
      "Dear Hannah Stern, Thank you for your interest in our product. Please let me know if you have any questions. My email is john.doe@example.com or my phone number is 123-456-7890. Thanks, John Doe\n",
      "The new salary after the raise is: $52500.0\n"
     ]
    }
   ],
   "source": [
    "# Create the instance\n",
    "\n",
    "class Employee:\n",
    "    \"\"\"\n",
    "    A class to represent an Employee.\n",
    "\n",
    "    Attributes:\n",
    "    - first_name (str): The first name of the employee.\n",
    "    - last_name (str): The last name of the employee.\n",
    "    - job_title (str): The job title of the employee.\n",
    "    - salary (float): The salary of the employee.\n",
    "    - email (str): The email of the employee.\n",
    "    \"\"\"\n",
    "\n",
    "    raise_amount = 1.05\n",
    "\n",
    "    def __init__(self, first_name, last_name, job_title, salary, email):\n",
    "        self.first_name = first_name\n",
    "        self.last_name = last_name\n",
    "        self.job_title = job_title\n",
    "        self.salary = salary\n",
    "        self.email = email\n",
    "\n",
    "    def apply_raise(self):\n",
    "        \"\"\"Apply a raise to the employee's salary.\"\"\"\n",
    "        self.salary *= self.raise_amount\n",
    "\n",
    "\n",
    "class Sales(Employee):\n",
    "    \"\"\"\n",
    "    A class to represent a Sales Employee.\n",
    "\n",
    "    Attributes:\n",
    "    - Inherits all attributes from Employee class.\n",
    "    - phone_number (str): The phone number of the sales employee.\n",
    "    \"\"\"\n",
    "\n",
    "    def __init__(self, first_name, last_name, job_title, salary, email, phone_number):\n",
    "        super().__init__(first_name, last_name, job_title, salary, email)\n",
    "        self.phone_number = phone_number\n",
    "\n",
    "    def send_follow_up_email(self, customer_name):\n",
    "        \"\"\"Send a follow-up email to a customer.\"\"\"\n",
    "        print(f\"Dear {customer_name}, Thank you for your interest in our product. \"\n",
    "              f\"Please let me know if you have any questions. My email is {self.email} \"\n",
    "              f\"or my phone number is {self.phone_number}. Thanks, {self.first_name} {self.last_name}\")\n",
    "\n",
    "\n",
    "class Development(Employee):\n",
    "    \"\"\"\n",
    "    A class to represent a Development Employee.\n",
    "\n",
    "    Attributes:\n",
    "    - Inherits all attributes from Employee class.\n",
    "    \"\"\"\n",
    "\n",
    "    def code(self):\n",
    "        \"\"\"Print a message that the development employee is writing code.\"\"\"\n",
    "        print(f\"{self.first_name} {self.last_name} is writing code.\")\n",
    "\n",
    "\n",
    "# Create an instance of a Sales Employee with a salary of $50,000\n",
    "sales_employee = Sales(\"John\", \"Doe\", \"Sales Manager\", 50000, \"john.doe@example.com\", \"123-456-7890\")\n",
    "\n",
    "# Send follow-up emails to \"Mike O'Neil\" and \"Hannah Stern\"\n",
    "sales_employee.send_follow_up_email(\"Mike O'Neil\")\n",
    "sales_employee.send_follow_up_email(\"Hannah Stern\")\n",
    "\n",
    "# Give the employee a raise and print the salary\n",
    "sales_employee.apply_raise()\n",
    "print(f\"The new salary after the raise is: ${sales_employee.salary}\")\n"
   ]
  },
  {
   "cell_type": "code",
   "execution_count": null,
   "metadata": {},
   "outputs": [],
   "source": [
    "# Send follow up to Mike"
   ]
  },
  {
   "cell_type": "code",
   "execution_count": null,
   "metadata": {},
   "outputs": [],
   "source": [
    "# Send follow up to Hannah"
   ]
  },
  {
   "cell_type": "code",
   "execution_count": null,
   "metadata": {},
   "outputs": [],
   "source": [
    "# Give the sales employee a raise"
   ]
  },
  {
   "cell_type": "markdown",
   "metadata": {},
   "source": [
    "- Create an instance of a Development Employee with a salary of $100,000\n",
    "- Write some code with this employee\n",
    "- Give the employee a raise and print the salary"
   ]
  },
  {
   "cell_type": "code",
   "execution_count": 7,
   "metadata": {},
   "outputs": [
    {
     "name": "stdout",
     "output_type": "stream",
     "text": [
      "Dear Mike O'Neil,\n",
      "Thank you for your interest in our product. Please let me know if you have any questions. My email is johndoe@example.com or my phone number is 555-1234.\n",
      "Thanks,\n",
      "John Doe\n",
      "Dear Hannah Stern,\n",
      "Thank you for your interest in our product. Please let me know if you have any questions. My email is johndoe@example.com or my phone number is 555-1234.\n",
      "Thanks,\n",
      "John Doe\n",
      "New salary after raise: $52500.0\n",
      "Jane Smith is writing code.\n",
      "New salary after raise: $105000.0\n"
     ]
    }
   ],
   "source": [
    "# Create the instance\n",
    "\n",
    "class Employee:\n",
    "    \"\"\"\n",
    "    A class to represent an employee.\n",
    "    \n",
    "    Attributes:\n",
    "    first_name (str): The first name of the employee.\n",
    "    last_name (str): The last name of the employee.\n",
    "    job_title (str): The job title of the employee.\n",
    "    salary (float): The salary of the employee.\n",
    "    email (str): The email of the employee.\n",
    "    raise_amount (float): The raise amount (percentage) applied to the employee's salary.\n",
    "    \"\"\"\n",
    "    \n",
    "    raise_amount = 1.05  # Class attribute for raise amount set to 5%\n",
    "    \n",
    "    def __init__(self, first_name, last_name, job_title, salary, email):\n",
    "        \"\"\"\n",
    "        Constructs all the necessary attributes for the employee object.\n",
    "        \"\"\"\n",
    "        self.first_name = first_name\n",
    "        self.last_name = last_name\n",
    "        self.job_title = job_title\n",
    "        self.salary = salary\n",
    "        self.email = email\n",
    "    \n",
    "    def apply_raise(self):\n",
    "        \"\"\"\n",
    "        Applies the raise to the employee's salary.\n",
    "        \"\"\"\n",
    "        self.salary *= self.raise_amount\n",
    "\n",
    "class Sales(Employee):\n",
    "    \"\"\"\n",
    "    A class to represent a Sales Employee, inherited from Employee class.\n",
    "    \n",
    "    Attributes:\n",
    "    Inherits all attributes from the Employee class.\n",
    "    phone_number (str): The phone number of the sales employee.\n",
    "    \"\"\"\n",
    "    \n",
    "    def __init__(self, first_name, last_name, job_title, salary, email, phone_number):\n",
    "        \"\"\"\n",
    "        Constructs all the necessary attributes for the sales employee object, \n",
    "        including phone number using super method.\n",
    "        \"\"\"\n",
    "        super().__init__(first_name, last_name, job_title, salary, email)\n",
    "        self.phone_number = phone_number\n",
    "    \n",
    "    def send_follow_up_email(self, customer_name):\n",
    "        \"\"\"\n",
    "        Sends a follow up email to a customer.\n",
    "        \n",
    "        Parameters:\n",
    "        customer_name (str): The name of the customer.\n",
    "        \"\"\"\n",
    "        print(f\"Dear {customer_name},\\nThank you for your interest in our product. Please let me know if you have any questions. My email is {self.email} or my phone number is {self.phone_number}.\\nThanks,\\n{self.first_name} {self.last_name}\")\n",
    "\n",
    "class Development(Employee):\n",
    "    \"\"\"\n",
    "    A class to represent a Development Employee, inherited from Employee class.\n",
    "    \"\"\"\n",
    "    \n",
    "    def code(self):\n",
    "        \"\"\"\n",
    "        Prints a message indicating that the employee is writing code.\n",
    "        \"\"\"\n",
    "        print(f\"{self.first_name} {self.last_name} is writing code.\")\n",
    "\n",
    "# Create an instance of a Sales Employee with a salary of $50,000\n",
    "sales_employee = Sales('John', 'Doe', 'Sales Associate', 50000, 'johndoe@example.com', '555-1234')\n",
    "\n",
    "# Send follow up emails\n",
    "sales_employee.send_follow_up_email(\"Mike O'Neil\")\n",
    "sales_employee.send_follow_up_email(\"Hannah Stern\")\n",
    "\n",
    "# Give the employee a raise and print the salary\n",
    "sales_employee.apply_raise()\n",
    "print(f\"New salary after raise: ${sales_employee.salary}\")\n",
    "\n",
    "# Create an instance of a Development Employee with a salary of $100,000\n",
    "dev_employee = Development('Jane', 'Smith', 'Software Developer', 100000, 'janesmith@example.com')\n",
    "\n",
    "# Write some code with this employee\n",
    "dev_employee.code()\n",
    "\n",
    "# Give the employee a raise and print the salary\n",
    "dev_employee.apply_raise()\n",
    "print(f\"New salary after raise: ${dev_employee.salary}\")\n"
   ]
  },
  {
   "cell_type": "code",
   "execution_count": null,
   "metadata": {},
   "outputs": [],
   "source": [
    "# Write some code (call code method)"
   ]
  },
  {
   "cell_type": "code",
   "execution_count": null,
   "metadata": {},
   "outputs": [],
   "source": [
    "# Give the dev employee a raise"
   ]
  },
  {
   "cell_type": "markdown",
   "metadata": {},
   "source": [
    "#### Exercise 2 - Importing Modules"
   ]
  },
  {
   "cell_type": "markdown",
   "metadata": {},
   "source": [
    "In VS Code, create a module titled `geometry` and add two functions in there. One that will calculate the area of a circle given a radius. The second will find the hypotenuse of a right angle given the two sides. Import the module or the functions from the module and use it to find the answers to the below questions"
   ]
  },
  {
   "cell_type": "markdown",
   "metadata": {},
   "source": [
    "What is the area of a circle with a radius of 7cm?"
   ]
  },
  {
   "cell_type": "code",
   "execution_count": 75,
   "metadata": {},
   "outputs": [],
   "source": [
    "# geometry.py\n",
    "\n",
    "import math\n",
    "\n",
    "def circle_area(radius):\n",
    "    \"\"\"\n",
    "    Calculate the area of a circle given its radius.\n",
    "\n",
    "    Parameters:\n",
    "    - radius: The radius of the circle.\n",
    "\n",
    "    Returns:\n",
    "    The area of the circle.\n",
    "    \"\"\"\n",
    "    return math.pi * radius ** 2\n",
    "\n",
    "def hypotenuse(side_a, side_b):\n",
    "    \"\"\"\n",
    "    Find the hypotenuse of a right-angled triangle given its two other sides.\n",
    "\n",
    "    Parameters:\n",
    "    - side_a: One side of the right-angled triangle.\n",
    "    - side_b: The other side of the right-angled triangle.\n",
    "\n",
    "    Returns:\n",
    "    The length of the hypotenuse.\n",
    "    \"\"\"\n",
    "    return math.sqrt(side_a ** 2 + side_b ** 2)\n"
   ]
  },
  {
   "cell_type": "code",
   "execution_count": 76,
   "metadata": {},
   "outputs": [],
   "source": [
    "# ~153.94"
   ]
  },
  {
   "cell_type": "markdown",
   "metadata": {},
   "source": [
    "What is the hypotenuse of a right angle with sides of 3in and 4in?"
   ]
  },
  {
   "cell_type": "code",
   "execution_count": 77,
   "metadata": {},
   "outputs": [],
   "source": [
    "# 5 inches"
   ]
  },
  {
   "cell_type": "code",
   "execution_count": null,
   "metadata": {},
   "outputs": [],
   "source": []
  }
 ],
 "metadata": {
  "kernelspec": {
   "display_name": "Python 3 (ipykernel)",
   "language": "python",
   "name": "python3"
  },
  "language_info": {
   "codemirror_mode": {
    "name": "ipython",
    "version": 3
   },
   "file_extension": ".py",
   "mimetype": "text/x-python",
   "name": "python",
   "nbconvert_exporter": "python",
   "pygments_lexer": "ipython3",
   "version": "3.11.5"
  }
 },
 "nbformat": 4,
 "nbformat_minor": 4
}
